{
  "nbformat": 4,
  "nbformat_minor": 0,
  "metadata": {
    "colab": {
      "name": "4/3 hw",
      "provenance": [],
      "collapsed_sections": []
    },
    "kernelspec": {
      "name": "python3",
      "display_name": "Python 3"
    },
    "language_info": {
      "name": "python"
    }
  },
  "cells": [
    {
      "cell_type": "code",
      "execution_count": null,
      "metadata": {
        "colab": {
          "base_uri": "https://localhost:8080/"
        },
        "id": "76EMU_JNWAn0",
        "outputId": "fa4a0638-3ed6-4f32-893b-342e5c9c23f2"
      },
      "outputs": [
        {
          "output_type": "stream",
          "name": "stdout",
          "text": [
            "3.5\n",
            "0.125\n"
          ]
        }
      ],
      "source": [
        "# avg of two number\n",
        "def avg_of_2(x,y):\n",
        "    return (x+y)/2\n",
        "\n",
        "# avg of a list of numbers \n",
        "def avg_of_list(myNums):\n",
        "    total = 0\n",
        "    for i in myNums:\n",
        "        total = total + i\n",
        "        return total/len(myNums)\n",
        "\n",
        "\n",
        "num_one= 2\n",
        "num_two = 5\n",
        "print(avg_of_2(num_one,num_two))\n",
        "\n",
        "z= [1,2,3,4,5,6,7,8]\n",
        "print(avg_of_list(z))"
      ]
    },
    {
      "cell_type": "code",
      "source": [
        "#sum from a to b\n",
        "def sumRange(a, b):\n",
        "    total = 0\n",
        "    for i in range (a,b+1):\n",
        "        total = total + i\n",
        "        return total\n",
        "\n",
        "print (sumRange(5,8))"
      ],
      "metadata": {
        "colab": {
          "base_uri": "https://localhost:8080/"
        },
        "id": "8RDMh8MKaZp5",
        "outputId": "426e19dd-255d-4db3-e137-7b3430eb1915"
      },
      "execution_count": null,
      "outputs": [
        {
          "output_type": "stream",
          "name": "stdout",
          "text": [
            "5\n"
          ]
        }
      ]
    },
    {
      "cell_type": "code",
      "source": [
        "#\n",
        "def shapeNumbers(shape):\n",
        "    if( shape == \"triangle\"):\n",
        "        skipval = 1\n",
        "    elif (shape == \"square\"):\n",
        "        skipval = 2\n",
        "    elif(shape == \"pentagon\"):\n",
        "            skipval = 3\n",
        "\n",
        "\n",
        "    total = 0\n",
        "    for i in range(1,100,skipval):\n",
        "        total = total + i\n",
        "        print(total,end = \" \")\n",
        "    print()\n",
        "\n",
        "shapeNumbers(\"triangle\")\n",
        "shapeNumbers(\"square\")\n",
        "shapeNumbers(\"pentagon\")\n"
      ],
      "metadata": {
        "colab": {
          "base_uri": "https://localhost:8080/"
        },
        "id": "Hq8FyfgebBZI",
        "outputId": "f1c33691-ced3-46f4-ace5-db1691c1a6a5"
      },
      "execution_count": null,
      "outputs": [
        {
          "output_type": "stream",
          "name": "stdout",
          "text": [
            "1 3 6 10 15 21 28 36 45 55 66 78 91 105 120 136 153 171 190 210 231 253 276 300 325 351 378 406 435 465 496 528 561 595 630 666 703 741 780 820 861 903 946 990 1035 1081 1128 1176 1225 1275 1326 1378 1431 1485 1540 1596 1653 1711 1770 1830 1891 1953 2016 2080 2145 2211 2278 2346 2415 2485 2556 2628 2701 2775 2850 2926 3003 3081 3160 3240 3321 3403 3486 3570 3655 3741 3828 3916 4005 4095 4186 4278 4371 4465 4560 4656 4753 4851 4950 \n",
            "1 4 9 16 25 36 49 64 81 100 121 144 169 196 225 256 289 324 361 400 441 484 529 576 625 676 729 784 841 900 961 1024 1089 1156 1225 1296 1369 1444 1521 1600 1681 1764 1849 1936 2025 2116 2209 2304 2401 2500 \n",
            "1 5 12 22 35 51 70 92 117 145 176 210 247 287 330 376 425 477 532 590 651 715 782 852 925 1001 1080 1162 1247 1335 1426 1520 1617 \n"
          ]
        }
      ]
    },
    {
      "cell_type": "code",
      "source": [
        "\n",
        "\n",
        "def isPrime(number):\n",
        "    for i in range(2,number):\n",
        "        if(number%i == 0):\n",
        "            return False\n",
        "    return True\n",
        "\n",
        "def listprimes ( numbers):\n",
        "    for i in range(2,numbers+1):\n",
        "        if(isPrime(i)):\n",
        "            print(i, end = \" \")\n",
        "\n",
        "listprimes(100)"
      ],
      "metadata": {
        "colab": {
          "base_uri": "https://localhost:8080/"
        },
        "id": "OFwy9mWEd_cv",
        "outputId": "3a01ea83-7c03-4e07-8d0d-b556a00d1e52"
      },
      "execution_count": null,
      "outputs": [
        {
          "output_type": "stream",
          "name": "stdout",
          "text": [
            "2 3 5 7 11 13 17 19 23 29 31 37 41 43 47 53 59 61 67 71 73 79 83 89 97 "
          ]
        }
      ]
    },
    {
      "cell_type": "code",
      "source": [
        "# list all numbers below some number that are \n",
        "#coprime means that a and b only share 1 as a divisor\n",
        "#for instance 12 shares only\n",
        "\n",
        "\n",
        "def iscoprime(a,b):\n",
        "    #make sure a<b\n",
        "    if (a > b):\n",
        "        holder = a\n",
        "        a = b\n",
        "        b = holder\n",
        "    for i in range(2,a+1):\n",
        "        if(a%i ==0 and b%i == 0):\n",
        "            return False\n",
        "    return True\n",
        "\n",
        "def listcoprimes(number):\n",
        "    for i in range(1,number):\n",
        "        if(iscoprime(i,number)):\n",
        "            print(i, end= \" \")\n",
        "\n",
        "listcoprimes(12)\n",
        "    "
      ],
      "metadata": {
        "colab": {
          "base_uri": "https://localhost:8080/"
        },
        "id": "-J5RpRhefyZj",
        "outputId": "d5029ddc-c4c5-455f-8b72-d812f2f94868"
      },
      "execution_count": null,
      "outputs": [
        {
          "output_type": "stream",
          "name": "stdout",
          "text": [
            "1 5 7 11 "
          ]
        }
      ]
    },
    {
      "cell_type": "code",
      "source": [
        "def istwinprime(s):\n",
        "    if(isprime(s)) and is prime(s+2):s+2)):\n",
        "    def isPrime(number):\n",
        "    for i in range(2,number):\n",
        "        if(number%i == 0):\n",
        "            return False\n",
        "    return True\n",
        "\n"
      ],
      "metadata": {
        "colab": {
          "base_uri": "https://localhost:8080/",
          "height": 131
        },
        "id": "i65siuz-qoS0",
        "outputId": "aace8ee4-9ce8-4ea3-ae86-e6b6f56c10af"
      },
      "execution_count": null,
      "outputs": [
        {
          "output_type": "error",
          "ename": "SyntaxError",
          "evalue": "ignored",
          "traceback": [
            "\u001b[0;36m  File \u001b[0;32m\"<ipython-input-24-8af35c8d5f22>\"\u001b[0;36m, line \u001b[0;32m2\u001b[0m\n\u001b[0;31m    if(isprime(s)) and is prime(s+2):s+2)):\u001b[0m\n\u001b[0m                        ^\u001b[0m\n\u001b[0;31mSyntaxError\u001b[0m\u001b[0;31m:\u001b[0m invalid syntax\n"
          ]
        }
      ]
    },
    {
      "cell_type": "markdown",
      "source": [
        " "
      ],
      "metadata": {
        "id": "5ZwgZLWPX6_I"
      }
    },
    {
      "cell_type": "code",
      "source": [
        "#testing rock, paper, scissors \n",
        "import random as rnd\n",
        "\n",
        "rock = paper = scissors = 0\n",
        "for i in rane(100000):\n",
        "    playerOne = rnd.randint(1,3)\n",
        "    playertwo = rnd.randint(1,3)\n",
        "    \n",
        "    if((playerone == 1 and playertwo == 3)or (playertwo == 1 and player == 3)):\n",
        "        rock = rock + 1\n",
        "    elif((playerOne == 2 and playertwo == 1) or (playertwo == 1 playerone == 1)):\n",
        "        paper = paper + 1\n",
        "    elif ((playerone == 3 and playertwo == 2) or(playertwo == 3 and playerOne == 2)):\n",
        "        scissors = scissors + 1\n",
        "\n",
        "print(rock/100000)\n",
        "print(paper/100000)\n",
        "print(scissors/100000)\n",
        "print((100000-(rock+paper+scissors))/100000\n",
        "\n"
      ],
      "metadata": {
        "colab": {
          "base_uri": "https://localhost:8080/",
          "height": 131
        },
        "id": "zIBpDCO-sJxM",
        "outputId": "c42f00c8-3f52-40b3-ee28-3577741bad9e"
      },
      "execution_count": null,
      "outputs": [
        {
          "output_type": "error",
          "ename": "SyntaxError",
          "evalue": "ignored",
          "traceback": [
            "\u001b[0;36m  File \u001b[0;32m\"<ipython-input-25-0049f7ea3349>\"\u001b[0;36m, line \u001b[0;32m11\u001b[0m\n\u001b[0;31m    elif((playerOne == 2 and playertwo == 1) or (playertwo == 1 playerone == 1)):\u001b[0m\n\u001b[0m                                                                        ^\u001b[0m\n\u001b[0;31mSyntaxError\u001b[0m\u001b[0;31m:\u001b[0m invalid syntax\n"
          ]
        }
      ]
    },
    {
      "cell_type": "code",
      "source": [
        "import random as rnd\n",
        "\n",
        "def nochange():\n",
        "    #set 1 and 2 to go a goat and 3 to a prize\n",
        "    mylist = [1,2,3]\n",
        "    rnd.shuffle(mylist)\n",
        "\n",
        "    doors = ['goat', 'goat', 'goat']\n",
        "    doors [mylist.index(3)] = 'prize'\n",
        "    print(doors)\n",
        "    \n",
        "    if doors[0] == 'prize'\n",
        "        return true\n",
        "    else:\n",
        "        return False\n",
        "\n",
        "def measunochange():\n",
        "    total= 0\n",
        "    for i in range(100000):\n",
        "        if(nochange()):\n",
        "            total = total +1\n",
        "    print(total/100000)\n",
        "\n",
        "measurenochange()\n",
        "\n",
        "\n",
        "\n"
      ],
      "metadata": {
        "colab": {
          "base_uri": "https://localhost:8080/",
          "height": 131
        },
        "id": "dyonHSrevsZU",
        "outputId": "517e5fdf-a45d-4083-856a-3b8b8f8583bb"
      },
      "execution_count": null,
      "outputs": [
        {
          "output_type": "error",
          "ename": "SyntaxError",
          "evalue": "ignored",
          "traceback": [
            "\u001b[0;36m  File \u001b[0;32m\"<ipython-input-33-b5c51ff14863>\"\u001b[0;36m, line \u001b[0;32m12\u001b[0m\n\u001b[0;31m    if doors[0] == 'prize'\u001b[0m\n\u001b[0m                          ^\u001b[0m\n\u001b[0;31mSyntaxError\u001b[0m\u001b[0;31m:\u001b[0m invalid syntax\n"
          ]
        }
      ]
    },
    {
      "cell_type": "code",
      "source": [
        "def yeschange():\n",
        "    #set 1 and 2 to go a goat and 3 to a prize\n",
        "    mylist = [1,2,3]\n",
        "    rnd.shuffle(mylist)\n",
        "\n",
        "    doors = ['goat', 'goat', 'goat']\n",
        "    doors [mylist.index(3)] = 'prize'\n",
        "    \n",
        "    choice = 0\n",
        "    toshow = doors [1:3]\n",
        "    doors_to_show = toshow.index('goat')\n",
        "\n",
        "    if(doors[2]== 'prize'):\n",
        "        return True\n",
        "    else:\n",
        "        return False\n",
        "    elif(doors_to_show == 1):\n",
        "        if (doors[1] == 'prize'):\n",
        "        return True\n",
        "    else:\n",
        "        return False\n",
        "\n",
        "def measunochange():\n",
        "    total= 0\n",
        "    for i in range(100000):\n",
        "        if(nochange()):\n",
        "            total = total +1\n",
        "    print(total/100000)\n",
        "\n",
        "measurenochange()\n",
        "\n"
      ],
      "metadata": {
        "colab": {
          "base_uri": "https://localhost:8080/",
          "height": 131
        },
        "id": "18rdudtb0kET",
        "outputId": "d944af8e-acb7-4636-ca4e-86ae89fd9df3"
      },
      "execution_count": null,
      "outputs": [
        {
          "output_type": "error",
          "ename": "SyntaxError",
          "evalue": "ignored",
          "traceback": [
            "\u001b[0;36m  File \u001b[0;32m\"<ipython-input-41-f0d3220c6b5e>\"\u001b[0;36m, line \u001b[0;32m17\u001b[0m\n\u001b[0;31m    elif(doors_to_show == 1):\u001b[0m\n\u001b[0m       ^\u001b[0m\n\u001b[0;31mSyntaxError\u001b[0m\u001b[0;31m:\u001b[0m invalid syntax\n"
          ]
        }
      ]
    },
    {
      "cell_type": "code",
      "source": [
        ""
      ],
      "metadata": {
        "id": "4McLEE14vF3G"
      },
      "execution_count": null,
      "outputs": []
    },
    {
      "cell_type": "code",
      "source": [
        "import"
      ],
      "metadata": {
        "id": "wj2_YZVRvF_g"
      },
      "execution_count": null,
      "outputs": []
    }
  ]
}